{
 "cells": [
  {
   "cell_type": "markdown",
   "id": "16e50074",
   "metadata": {},
   "source": [
    "# grid searches"
   ]
  },
  {
   "cell_type": "code",
   "execution_count": null,
   "id": "f36a6a51",
   "metadata": {},
   "outputs": [],
   "source": [
    "param_grid = {'C': [0.001,0.01,0.1,1,5,10,15,20,30, 40, 50, 60,70,80,90,100],\n",
    "              'kernel': ['rbf'],\n",
    "              'gamma': [0.0001, 0.001, 0.01, 0.1, 0.5, 1, 3, 5, 7, 10]}\n",
    "\n",
    "grid = GridSearchCV(SVC(), param_grid)\n",
    "grid.fit(X_train, y_train)"
   ]
  }
 ],
 "metadata": {
  "kernelspec": {
   "display_name": "Python 3 (ipykernel)",
   "language": "python",
   "name": "python3"
  },
  "language_info": {
   "codemirror_mode": {
    "name": "ipython",
    "version": 3
   },
   "file_extension": ".py",
   "mimetype": "text/x-python",
   "name": "python",
   "nbconvert_exporter": "python",
   "pygments_lexer": "ipython3",
   "version": "3.8.13"
  }
 },
 "nbformat": 4,
 "nbformat_minor": 5
}

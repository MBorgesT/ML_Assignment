{
 "cells": [
  {
   "cell_type": "code",
   "execution_count": 7,
   "metadata": {},
   "outputs": [],
   "source": [
    "import numpy as np\n",
    "\n",
    "# import models\n",
    "from sklearn.linear_model import LogisticRegression\n",
    "from sklearn.discriminant_analysis import LinearDiscriminantAnalysis as LDA\n",
    "\n",
    "# import dataset packages\n",
    "from sklearn.datasets import make_blobs\n",
    "\n",
    "# import from project files\n",
    "# from  import plot_classifier_boundary"
   ]
  },
  {
   "cell_type": "code",
   "execution_count": 11,
   "metadata": {},
   "outputs": [],
   "source": [
    "# create datasets\n",
    "\n",
    "# for LDA we need Gaussian distribution (important assumption!)\n",
    "\n",
    "# LogReg should not be used if the number of observations is lesser than the number of features, otherwise, it may lead to overfitting\n",
    "\n",
    "n_points=500\n",
    "std1=2\n",
    "std2=1\n",
    "\n",
    "X,y = make_blobs(n_samples=[n_points,n_points], centers=[(3,5),(6,5)], \n",
    "                 n_features=2, cluster_std=[std1,std2],\n",
    "                 random_state=1, shuffle=False)"
   ]
  },
  {
   "cell_type": "code",
   "execution_count": 3,
   "metadata": {},
   "outputs": [],
   "source": [
    "# LogReg\n",
    "\n",
    "logreg = LogisticRegression().fit(X,y)\n"
   ]
  },
  {
   "cell_type": "code",
   "execution_count": 4,
   "metadata": {},
   "outputs": [],
   "source": [
    "# LDA\n",
    "\n",
    "lindisc = LDA().fit(X,y)"
   ]
  },
  {
   "cell_type": "code",
   "execution_count": 12,
   "metadata": {},
   "outputs": [
    {
     "name": "stdout",
     "output_type": "stream",
     "text": [
      "Linear Regression scores: [0.852 0.852 0.852 0.852 0.852 0.852 0.852 0.852 0.852 0.852]\n"
     ]
    }
   ],
   "source": [
    "repeats = 10\n",
    "logreg_scores = []\n",
    "for k in range(repeats):\n",
    "    model = LogisticRegression()\n",
    "    model.fit(X,y)\n",
    "    logreg_scores.append(model.score(X, y))\n",
    "\n",
    "logreg_scores = np.array(logreg_scores)\n",
    "print('Logitic Regression scores:', logreg_scores)\n",
    "# LogReg models always get same score for same dataset\n"
   ]
  }
 ],
 "metadata": {
  "interpreter": {
   "hash": "8e66e7379cf223279215fcd1a55c9375a51b021d840a1af001d93f76647df97a"
  },
  "kernelspec": {
   "display_name": "Python 3.8.13 ('machinelearning')",
   "language": "python",
   "name": "python3"
  },
  "language_info": {
   "codemirror_mode": {
    "name": "ipython",
    "version": 3
   },
   "file_extension": ".py",
   "mimetype": "text/x-python",
   "name": "python",
   "nbconvert_exporter": "python",
   "pygments_lexer": "ipython3",
   "version": "3.8.13"
  },
  "orig_nbformat": 4
 },
 "nbformat": 4,
 "nbformat_minor": 2
}

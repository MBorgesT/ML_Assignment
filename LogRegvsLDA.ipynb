{
 "cells": [
  {
   "cell_type": "code",
   "execution_count": 25,
   "metadata": {},
   "outputs": [],
   "source": [
    "import numpy as np\n",
    "import matplotlib.pyplot as plt\n",
    "from matplotlib import colors\n",
    "\n",
    "# import models\n",
    "from sklearn.linear_model import LogisticRegression\n",
    "from sklearn.discriminant_analysis import LinearDiscriminantAnalysis as LDA\n",
    "\n",
    "# import dataset packages\n",
    "from sklearn.datasets import make_blobs, make_moons, make_circles, make_classification\n",
    "from sklearn.model_selection import train_test_split\n",
    "\n",
    "# import from project files\n",
    "from utils import plot_2d, plot_classifier_boundary"
   ]
  },
  {
   "cell_type": "code",
   "execution_count": 26,
   "metadata": {},
   "outputs": [],
   "source": [
    "# create datasets\n",
    "\n",
    "# for LDA we need Gaussian distribution (important assumption!)\n",
    "# LDA works when all the independent/predictor variables are continuous (not categorical) and follow a Normal distribution.\n",
    "\n",
    "# LogReg should not be used if the number of observations is lesser than the number of features, otherwise, it may lead to overfitting\n",
    "# logreg assumes binary classification\n",
    "# Hence, it is assumed that logistic regression is the more flexible and more robust method in case of violations of these assumptions\n",
    "\n"
   ]
  },
  {
   "cell_type": "markdown",
   "metadata": {},
   "source": [
    "## Logistic Regression ##\n",
    "\n",
    "- Based on Maximum likelihood estimation\n",
    "- \n",
    "\n",
    "\n",
    "Assumptions: \n",
    "- By default, logistic regression assumes that the outcome variable is binary (see: https://towardsdatascience.com/assumptions-of-logistic-regression-clearly-explained-44d85a22b290)\n",
    "- Linearity of independent variables and log-odds\n",
    "- Logistic regression assumes that there are no highly influential outlier data points, as they distort the outcome and accuracy of the model\n",
    "- When the classes are well-separated, the parameter estimates for logistic regression are surprisingly unstable. Coefficients may go to infinity. LDA doesn't suffer from this problem. --> If there are covariate values that can predict the binary outcome perfectly then the algorithm of logistic regression, i.e. Fisher scoring, does not even converge. This is the extreme case of perfect separation but even if the data are only separated to a great degree and not perfectly, the maximum likelihood estimator might not exist and even if it does exist, the estimates are not reliable.(see: https://stats.stackexchange.com/questions/188416/discriminant-analysis-vs-logistic-regression)\n",
    "- \n",
    "\n",
    "- No assumption about distribution and in-group covariance of predictors.\n",
    "\n",
    "Advantages: \n",
    "- Groups can have different n\n",
    "- Not too sensitive to outliers (See: https://stats.stackexchange.com/questions/95247/logistic-regression-vs-lda-as-two-class-classifiers)\n",
    "\n",
    "\n",
    "Disadvantages:\n",
    "- main differences to LDA with small samples, as their distributions vary too much for the LR to be  able  to  give  good  result\n"
   ]
  },
  {
   "cell_type": "markdown",
   "metadata": {},
   "source": [
    "## LDA ##\n",
    "\n",
    "- Based on Least squares estimation\n",
    "\n",
    "\n",
    "Assumptions:\n",
    "- Distributional assumptions (multivariate normality of all predictors). Non-multivariate normally distributed predictors will even hurt the discriminant extraction phase.\n",
    "- The within-group covariance matrices should be identical in population. (See: https://stats.stackexchange.com/questions/95247/logistic-regression-vs-lda-as-two-class-classifiers)\n",
    "- \n",
    "\n",
    "Advantages: \n",
    "- po\n",
    "\n",
    "Disadvantages: \n",
    "- Groups should have similar n\n",
    "- Quite sensitive ti outliers"
   ]
  },
  {
   "cell_type": "code",
   "execution_count": 1,
   "metadata": {},
   "outputs": [],
   "source": [
    "# add outliers\n",
    "# unbalanced sample sizes --> different n\n",
    "\n",
    "def data_lr():\n",
    "\n",
    "    # lr_X, lr_y = make_blobs(\n",
    "    #     n_samples=[700, 200], \n",
    "    #     centers=[(3,5),(6,5)],             \n",
    "    #     n_features=2, \n",
    "    #     cluster_std=[5, 4],\n",
    "    #     random_state=1, \n",
    "    #     shuffle=False)\n",
    "\n",
    "    # lr_X, lr_y = make_moons(\n",
    "    #     n_samples=[600, 100], \n",
    "    #     noise=0.5)\n",
    "\n",
    "    # lr - 0.99\n",
    "    # lda - 0.96\n",
    "    # lr_X, lr_y = make_classification(\n",
    "    #     n_samples=500,\n",
    "    #     n_features=2, \n",
    "    #     n_redundant=0, \n",
    "    #     n_informative=2, \n",
    "    #     n_clusters_per_class=1,\n",
    "    #     weights=[0.8, 0.2],\n",
    "    #     random_state=1\n",
    "    #     )\n",
    "\n",
    "\n",
    "    lr_X, lr_y = make_classification(\n",
    "        n_samples=100,\n",
    "        n_features=2, \n",
    "        n_redundant=0, \n",
    "        n_informative=2,\n",
    "        class_sep=0.5,          # seperation of classes, default 1.0\n",
    "        # flip_y=0.5,             # random class assignment, default 0.01\n",
    "        weights=[0.9, 0.1],      # balance of classes\n",
    "        random_state=42\n",
    "        )\n",
    "\n",
    "    return lr_X, lr_y"
   ]
  },
  {
   "cell_type": "code",
   "execution_count": 2,
   "metadata": {},
   "outputs": [],
   "source": [
    "# make gaussian distribution\n",
    "# no outliers\n",
    "# balanced sample sizes --> similar n\n",
    "\n",
    "def data_lda():\n",
    "    \n",
    "    lda_X, lda_y = make_blobs(\n",
    "        n_samples=[15, 15], \n",
    "        centers=[(2,5),(8,5)],             \n",
    "        n_features=2, \n",
    "        cluster_std=[1, 1],\n",
    "        random_state=1, \n",
    "        shuffle=False)\n",
    "\n",
    "    # lda_X, lda_y =  make_classification(\n",
    "    #     n_samples=600,\n",
    "    #     n_features=2,\n",
    "    #     n_redundant=0,\n",
    "    #     n_informative=2,\n",
    "    #     random_state=2,\n",
    "    #     n_clusters_per_class=1,\n",
    "    # ),\n",
    "\n",
    "    # lda_X, lda_y = make_moons(\n",
    "    #     n_samples=[100, 100], \n",
    "    #     noise=0.1)\n",
    "                    \n",
    "    return lda_X, lda_y"
   ]
  },
  {
   "cell_type": "code",
   "execution_count": 3,
   "metadata": {},
   "outputs": [
    {
     "ename": "NameError",
     "evalue": "name 'make_classification' is not defined",
     "output_type": "error",
     "traceback": [
      "\u001b[1;31m---------------------------------------------------------------------------\u001b[0m",
      "\u001b[1;31mNameError\u001b[0m                                 Traceback (most recent call last)",
      "\u001b[1;32mc:\\Users\\toni\\Documents\\Privat\\Bildung\\Studium\\Master\\LMU Informatik\\Auslanssemester\\Vorlesungen\\Machine Learning\\Assigment\\ML_Assignment\\LogRegvsLDA.ipynb Cell 7'\u001b[0m in \u001b[0;36m<cell line: 2>\u001b[1;34m()\u001b[0m\n\u001b[0;32m      <a href='vscode-notebook-cell:/c%3A/Users/toni/Documents/Privat/Bildung/Studium/Master/LMU%20Informatik/Auslanssemester/Vorlesungen/Machine%20Learning/Assigment/ML_Assignment/LogRegvsLDA.ipynb#ch0000006?line=0'>1</a>\u001b[0m \u001b[39m# LogReg data generation and splitup\u001b[39;00m\n\u001b[1;32m----> <a href='vscode-notebook-cell:/c%3A/Users/toni/Documents/Privat/Bildung/Studium/Master/LMU%20Informatik/Auslanssemester/Vorlesungen/Machine%20Learning/Assigment/ML_Assignment/LogRegvsLDA.ipynb#ch0000006?line=1'>2</a>\u001b[0m lr_X, lr_y \u001b[39m=\u001b[39m data_lr()\n\u001b[0;32m      <a href='vscode-notebook-cell:/c%3A/Users/toni/Documents/Privat/Bildung/Studium/Master/LMU%20Informatik/Auslanssemester/Vorlesungen/Machine%20Learning/Assigment/ML_Assignment/LogRegvsLDA.ipynb#ch0000006?line=2'>3</a>\u001b[0m plot_2d(lr_X, lr_y, \u001b[39m'\u001b[39m\u001b[39mLogReg dataset\u001b[39m\u001b[39m'\u001b[39m)\n\u001b[0;32m      <a href='vscode-notebook-cell:/c%3A/Users/toni/Documents/Privat/Bildung/Studium/Master/LMU%20Informatik/Auslanssemester/Vorlesungen/Machine%20Learning/Assigment/ML_Assignment/LogRegvsLDA.ipynb#ch0000006?line=4'>5</a>\u001b[0m lr_X_train, lr_X_test, lr_y_train, lr_y_test \u001b[39m=\u001b[39m train_test_split(lr_X, lr_y, test_size\u001b[39m=\u001b[39m\u001b[39m.33\u001b[39m, random_state\u001b[39m=\u001b[39m\u001b[39m42\u001b[39m)\n",
      "\u001b[1;32mc:\\Users\\toni\\Documents\\Privat\\Bildung\\Studium\\Master\\LMU Informatik\\Auslanssemester\\Vorlesungen\\Machine Learning\\Assigment\\ML_Assignment\\LogRegvsLDA.ipynb Cell 5'\u001b[0m in \u001b[0;36mdata_lr\u001b[1;34m()\u001b[0m\n\u001b[0;32m      <a href='vscode-notebook-cell:/c%3A/Users/toni/Documents/Privat/Bildung/Studium/Master/LMU%20Informatik/Auslanssemester/Vorlesungen/Machine%20Learning/Assigment/ML_Assignment/LogRegvsLDA.ipynb#ch0000004?line=3'>4</a>\u001b[0m \u001b[39mdef\u001b[39;00m \u001b[39mdata_lr\u001b[39m():\n\u001b[0;32m      <a href='vscode-notebook-cell:/c%3A/Users/toni/Documents/Privat/Bildung/Studium/Master/LMU%20Informatik/Auslanssemester/Vorlesungen/Machine%20Learning/Assigment/ML_Assignment/LogRegvsLDA.ipynb#ch0000004?line=4'>5</a>\u001b[0m \n\u001b[0;32m      <a href='vscode-notebook-cell:/c%3A/Users/toni/Documents/Privat/Bildung/Studium/Master/LMU%20Informatik/Auslanssemester/Vorlesungen/Machine%20Learning/Assigment/ML_Assignment/LogRegvsLDA.ipynb#ch0000004?line=5'>6</a>\u001b[0m     \u001b[39m# lr_X, lr_y = make_blobs(\u001b[39;00m\n\u001b[1;32m   (...)\u001b[0m\n\u001b[0;32m     <a href='vscode-notebook-cell:/c%3A/Users/toni/Documents/Privat/Bildung/Studium/Master/LMU%20Informatik/Auslanssemester/Vorlesungen/Machine%20Learning/Assigment/ML_Assignment/LogRegvsLDA.ipynb#ch0000004?line=26'>27</a>\u001b[0m     \u001b[39m#     random_state=1\u001b[39;00m\n\u001b[0;32m     <a href='vscode-notebook-cell:/c%3A/Users/toni/Documents/Privat/Bildung/Studium/Master/LMU%20Informatik/Auslanssemester/Vorlesungen/Machine%20Learning/Assigment/ML_Assignment/LogRegvsLDA.ipynb#ch0000004?line=27'>28</a>\u001b[0m     \u001b[39m#     )\u001b[39;00m\n\u001b[1;32m---> <a href='vscode-notebook-cell:/c%3A/Users/toni/Documents/Privat/Bildung/Studium/Master/LMU%20Informatik/Auslanssemester/Vorlesungen/Machine%20Learning/Assigment/ML_Assignment/LogRegvsLDA.ipynb#ch0000004?line=30'>31</a>\u001b[0m     lr_X, lr_y \u001b[39m=\u001b[39m make_classification(\n\u001b[0;32m     <a href='vscode-notebook-cell:/c%3A/Users/toni/Documents/Privat/Bildung/Studium/Master/LMU%20Informatik/Auslanssemester/Vorlesungen/Machine%20Learning/Assigment/ML_Assignment/LogRegvsLDA.ipynb#ch0000004?line=31'>32</a>\u001b[0m         n_samples\u001b[39m=\u001b[39m\u001b[39m100\u001b[39m,\n\u001b[0;32m     <a href='vscode-notebook-cell:/c%3A/Users/toni/Documents/Privat/Bildung/Studium/Master/LMU%20Informatik/Auslanssemester/Vorlesungen/Machine%20Learning/Assigment/ML_Assignment/LogRegvsLDA.ipynb#ch0000004?line=32'>33</a>\u001b[0m         n_features\u001b[39m=\u001b[39m\u001b[39m2\u001b[39m, \n\u001b[0;32m     <a href='vscode-notebook-cell:/c%3A/Users/toni/Documents/Privat/Bildung/Studium/Master/LMU%20Informatik/Auslanssemester/Vorlesungen/Machine%20Learning/Assigment/ML_Assignment/LogRegvsLDA.ipynb#ch0000004?line=33'>34</a>\u001b[0m         n_redundant\u001b[39m=\u001b[39m\u001b[39m0\u001b[39m, \n\u001b[0;32m     <a href='vscode-notebook-cell:/c%3A/Users/toni/Documents/Privat/Bildung/Studium/Master/LMU%20Informatik/Auslanssemester/Vorlesungen/Machine%20Learning/Assigment/ML_Assignment/LogRegvsLDA.ipynb#ch0000004?line=34'>35</a>\u001b[0m         n_informative\u001b[39m=\u001b[39m\u001b[39m2\u001b[39m,\n\u001b[0;32m     <a href='vscode-notebook-cell:/c%3A/Users/toni/Documents/Privat/Bildung/Studium/Master/LMU%20Informatik/Auslanssemester/Vorlesungen/Machine%20Learning/Assigment/ML_Assignment/LogRegvsLDA.ipynb#ch0000004?line=35'>36</a>\u001b[0m         class_sep\u001b[39m=\u001b[39m\u001b[39m0.5\u001b[39m,          \u001b[39m# seperation of classes, default 1.0\u001b[39;00m\n\u001b[0;32m     <a href='vscode-notebook-cell:/c%3A/Users/toni/Documents/Privat/Bildung/Studium/Master/LMU%20Informatik/Auslanssemester/Vorlesungen/Machine%20Learning/Assigment/ML_Assignment/LogRegvsLDA.ipynb#ch0000004?line=36'>37</a>\u001b[0m         \u001b[39m# flip_y=0.5,             # random class assignment, default 0.01\u001b[39;00m\n\u001b[0;32m     <a href='vscode-notebook-cell:/c%3A/Users/toni/Documents/Privat/Bildung/Studium/Master/LMU%20Informatik/Auslanssemester/Vorlesungen/Machine%20Learning/Assigment/ML_Assignment/LogRegvsLDA.ipynb#ch0000004?line=37'>38</a>\u001b[0m         weights\u001b[39m=\u001b[39m[\u001b[39m0.9\u001b[39m, \u001b[39m0.1\u001b[39m],      \u001b[39m# balance of classes\u001b[39;00m\n\u001b[0;32m     <a href='vscode-notebook-cell:/c%3A/Users/toni/Documents/Privat/Bildung/Studium/Master/LMU%20Informatik/Auslanssemester/Vorlesungen/Machine%20Learning/Assigment/ML_Assignment/LogRegvsLDA.ipynb#ch0000004?line=38'>39</a>\u001b[0m         random_state\u001b[39m=\u001b[39m\u001b[39m42\u001b[39m\n\u001b[0;32m     <a href='vscode-notebook-cell:/c%3A/Users/toni/Documents/Privat/Bildung/Studium/Master/LMU%20Informatik/Auslanssemester/Vorlesungen/Machine%20Learning/Assigment/ML_Assignment/LogRegvsLDA.ipynb#ch0000004?line=39'>40</a>\u001b[0m         )\n\u001b[0;32m     <a href='vscode-notebook-cell:/c%3A/Users/toni/Documents/Privat/Bildung/Studium/Master/LMU%20Informatik/Auslanssemester/Vorlesungen/Machine%20Learning/Assigment/ML_Assignment/LogRegvsLDA.ipynb#ch0000004?line=41'>42</a>\u001b[0m     \u001b[39mreturn\u001b[39;00m lr_X, lr_y\n",
      "\u001b[1;31mNameError\u001b[0m: name 'make_classification' is not defined"
     ]
    }
   ],
   "source": [
    "# LogReg data generation and splitup\n",
    "lr_X, lr_y = data_lr()\n",
    "plot_2d(lr_X, lr_y, 'LogReg dataset')\n",
    "\n",
    "lr_X_train, lr_X_test, lr_y_train, lr_y_test = train_test_split(lr_X, lr_y, test_size=.33, random_state=42)\n",
    "\n",
    "# LDA data generation and splitup\n",
    "lda_X, lda_y = data_lda()\n",
    "plot_2d(lda_X, lda_y, 'LDA dataset')\n",
    "\n",
    "lda_X_train, lda_X_test, lda_y_train, lda_y_test = train_test_split(lda_X, lda_y, test_size=.33, random_state=42)\n"
   ]
  },
  {
   "cell_type": "code",
   "execution_count": null,
   "metadata": {},
   "outputs": [
    {
     "name": "stdout",
     "output_type": "stream",
     "text": [
      "LogReg score on LR dataset: 0.80\n"
     ]
    },
    {
     "data": {
      "image/png": "[encoded data removed]",
      "text/plain": [
       "<Figure size 432x288 with 1 Axes>"
      ]
     },
     "metadata": {
      "needs_background": "light"
     },
     "output_type": "display_data"
    }
   ],
   "source": [
    "# LogReg\n",
    "\n",
    "logreg = LogisticRegression()\n",
    "logreg.fit(lr_X_train, lr_y_train)\n",
    "\n",
    "print('LogReg score on LR dataset: %.2f' % (logreg.score(lr_X_test, lr_y_test)))\n",
    "plot_classifier_boundary(logreg, lr_X, lr_y, title='LogReg on LR dataset')\n",
    "\n",
    "# plot log line\n",
    "# cmap = colors.ListedColormap(['blue','orange'])\n",
    "# x_show=np.arange(-1,1,0.01)\n",
    "# y_show=logreg.predict(x_show[:,np.newaxis])  # ValueError: X has 1 features, but LogisticRegression is expecting 2 features as input.\n",
    "# plt.scatter(lr_X, lr_y,color=cmap(lr_y))\n",
    "# plt.plot(x_show,y_show,color='red')\n",
    "# plt.plot(x_show,[0.5]*len(x_show),color='grey')\n",
    "\n",
    "# expy=np.exp(logreg.intercept_+logreg.coef_[0]*x_show)\n",
    "# plt.plot(x_show,expy/(1+expy),color='purple')\n",
    "# plt.legend(['predict','0.5','logistic function'])"
   ]
  },
  {
   "cell_type": "code",
   "execution_count": null,
   "metadata": {},
   "outputs": [
    {
     "name": "stdout",
     "output_type": "stream",
     "text": [
      "LogReg score on LDA dataset: 1.00\n"
     ]
    },
    {
     "data": {
      "image/png": "[encoded data removed]",
      "text/plain": [
       "<Figure size 432x288 with 1 Axes>"
      ]
     },
     "metadata": {
      "needs_background": "light"
     },
     "output_type": "display_data"
    }
   ],
   "source": [
    "# LogReg\n",
    "\n",
    "logreg = LogisticRegression()\n",
    "logreg.fit(lda_X_train, lda_y_train)\n",
    "\n",
    "print('LogReg score on LDA dataset: %.2f' % (logreg.score(lda_X_test, lda_y_test)))\n",
    "plot_classifier_boundary(logreg, lda_X, lda_y, title='LogReg on LDA dataset')"
   ]
  },
  {
   "cell_type": "code",
   "execution_count": null,
   "metadata": {},
   "outputs": [
    {
     "name": "stdout",
     "output_type": "stream",
     "text": [
      "LDA score on LDA dataset: 1.00\n"
     ]
    },
    {
     "data": {
      "image/png": "[encoded data removed]",
      "text/plain": [
       "<Figure size 432x288 with 1 Axes>"
      ]
     },
     "metadata": {
      "needs_background": "light"
     },
     "output_type": "display_data"
    }
   ],
   "source": [
    "# LDA\n",
    "\n",
    "lda = LDA()\n",
    "lda.fit(lda_X_train, lda_y_train)\n",
    "\n",
    "print('LDA score on LDA dataset: %.2f' % (lda.score(lda_X_test, lda_y_test)))\n",
    "plot_classifier_boundary(lda, lda_X, lda_y, title='LDA on LDA dataset')"
   ]
  },
  {
   "cell_type": "code",
   "execution_count": null,
   "metadata": {},
   "outputs": [
    {
     "name": "stdout",
     "output_type": "stream",
     "text": [
      "LDA score on LR dataset: 0.80\n"
     ]
    },
    {
     "data": {
      "image/png": "[encoded data removed]",
      "text/plain": [
       "<Figure size 432x288 with 1 Axes>"
      ]
     },
     "metadata": {
      "needs_background": "light"
     },
     "output_type": "display_data"
    }
   ],
   "source": [
    "# LDA\n",
    "\n",
    "lda = LDA()\n",
    "lda.fit(lr_X_train, lr_y_train)\n",
    "\n",
    "print('LDA score on LR dataset: %.2f' % (lda.score(lr_X_test, lr_y_test)))\n",
    "plot_classifier_boundary(lda, lr_X, lr_y, title='LDA on LR dataset')\n"
   ]
  },
  {
   "cell_type": "code",
   "execution_count": null,
   "metadata": {},
   "outputs": [
    {
     "name": "stdout",
     "output_type": "stream",
     "text": [
      "Logitic Regression scores: [0.8 0.8 0.8 0.8 0.8 0.8 0.8 0.8 0.8 0.8]\n"
     ]
    }
   ],
   "source": [
    "repeats = 10\n",
    "logreg_scores = []\n",
    "for k in range(repeats):\n",
    "    model = LogisticRegression()\n",
    "    model.fit(lr_X_train, lr_y_train)\n",
    "    logreg_scores.append(model.score(lr_X_test, lr_y_test))\n",
    "\n",
    "logreg_scores = np.array(logreg_scores)\n",
    "print('Logitic Regression scores:', logreg_scores)\n",
    "# LogReg models always get same score for same dataset\n"
   ]
  }
 ],
 "metadata": {
  "interpreter": {
   "hash": "8e66e7379cf223279215fcd1a55c9375a51b021d840a1af001d93f76647df97a"
  },
  "kernelspec": {
   "display_name": "Python 3.8.13 ('machinelearning')",
   "language": "python",
   "name": "python3"
  },
  "language_info": {
   "codemirror_mode": {
    "name": "ipython",
    "version": 3
   },
   "file_extension": ".py",
   "mimetype": "text/x-python",
   "name": "python",
   "nbconvert_exporter": "python",
   "pygments_lexer": "ipython3",
   "version": "3.8.13"
  },
  "orig_nbformat": 4
 },
 "nbformat": 4,
 "nbformat_minor": 2
}
